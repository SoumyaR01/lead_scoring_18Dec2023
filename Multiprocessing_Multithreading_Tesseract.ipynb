{
  "nbformat": 4,
  "nbformat_minor": 0,
  "metadata": {
    "colab": {
      "provenance": [],
      "authorship_tag": "ABX9TyO8DKjx5g6J84HpmHXiM4jx",
      "include_colab_link": true
    },
    "kernelspec": {
      "name": "python3",
      "display_name": "Python 3"
    },
    "language_info": {
      "name": "python"
    }
  },
  "cells": [
    {
      "cell_type": "markdown",
      "metadata": {
        "id": "view-in-github",
        "colab_type": "text"
      },
      "source": [
        "<a href=\"https://colab.research.google.com/github/SoumyaR01/lead_scoring_18Dec2023/blob/main/Multiprocessing_Multithreading_Tesseract.ipynb\" target=\"_parent\"><img src=\"https://colab.research.google.com/assets/colab-badge.svg\" alt=\"Open In Colab\"/></a>"
      ]
    },
    {
      "cell_type": "code",
      "source": [
        "import time\n",
        "from IPython.display import display, HTML\n",
        "\n",
        "def keep_colab_alive():\n",
        "    display(HTML('<script>function ClickConnect(){console.log(\"Clicking\");document.querySelector(\"colab-connect-button\").click()}setInterval(ClickConnect,60000)</script>'))\n",
        "\n",
        "keep_colab_alive()\n"
      ],
      "metadata": {
        "colab": {
          "base_uri": "https://localhost:8080/",
          "height": 17
        },
        "id": "7cmdil7CQuml",
        "outputId": "724a3c6a-9989-4f46-f834-d5fd9c41ff76"
      },
      "execution_count": 1,
      "outputs": [
        {
          "output_type": "display_data",
          "data": {
            "text/plain": [
              "<IPython.core.display.HTML object>"
            ],
            "text/html": [
              "<script>function ClickConnect(){console.log(\"Clicking\");document.querySelector(\"colab-connect-button\").click()}setInterval(ClickConnect,60000)</script>"
            ]
          },
          "metadata": {}
        }
      ]
    },
    {
      "cell_type": "code",
      "execution_count": 2,
      "metadata": {
        "colab": {
          "base_uri": "https://localhost:8080/"
        },
        "id": "jTZFpIvzKnl8",
        "outputId": "f33e6a11-e503-4c25-d448-a308df5514e5"
      },
      "outputs": [
        {
          "output_type": "stream",
          "name": "stdout",
          "text": [
            "Reading package lists... Done\n",
            "Building dependency tree... Done\n",
            "Reading state information... Done\n",
            "tesseract-ocr is already the newest version (4.1.1-2.1build1).\n",
            "poppler-utils is already the newest version (22.02.0-2ubuntu0.8).\n",
            "0 upgraded, 0 newly installed, 0 to remove and 34 not upgraded.\n",
            "Requirement already satisfied: pdf2image in /usr/local/lib/python3.11/dist-packages (1.17.0)\n",
            "Requirement already satisfied: pytesseract in /usr/local/lib/python3.11/dist-packages (0.3.13)\n",
            "Requirement already satisfied: pillow in /usr/local/lib/python3.11/dist-packages (11.2.1)\n",
            "Requirement already satisfied: tqdm in /usr/local/lib/python3.11/dist-packages (4.67.1)\n",
            "Requirement already satisfied: packaging>=21.3 in /usr/local/lib/python3.11/dist-packages (from pytesseract) (24.2)\n"
          ]
        }
      ],
      "source": [
        "# Install Tesseract and Poppler\n",
        "!apt-get install -y poppler-utils tesseract-ocr\n",
        "\n",
        "# Install Python libraries\n",
        "!pip install pdf2image pytesseract pillow tqdm"
      ]
    },
    {
      "cell_type": "code",
      "source": [
        "import os\n",
        "from threading import Thread\n",
        "from multiprocessing import Pool, cpu_count\n",
        "from pdf2image import convert_from_path\n",
        "from PIL import Image\n",
        "import pytesseract\n",
        "from tqdm import tqdm\n",
        "\n",
        "# Setup folders\n",
        "PDF_FOLDER = '/content/pdfs'\n",
        "IMAGE_FOLDER = '/content/temp_images'\n",
        "OUTPUT_FOLDER = '/content/ocr_output'\n",
        "\n",
        "os.makedirs(PDF_FOLDER, exist_ok=True)\n",
        "os.makedirs(IMAGE_FOLDER, exist_ok=True)\n",
        "os.makedirs(OUTPUT_FOLDER, exist_ok=True)\n",
        "\n",
        "print(f\"[INFO] CPU cores available: {cpu_count()}\")"
      ],
      "metadata": {
        "colab": {
          "base_uri": "https://localhost:8080/"
        },
        "id": "X5DCGui-Kw4f",
        "outputId": "54e9de8b-bc82-4089-c6c9-c55152b3539a"
      },
      "execution_count": 3,
      "outputs": [
        {
          "output_type": "stream",
          "name": "stdout",
          "text": [
            "[INFO] CPU cores available: 2\n"
          ]
        }
      ]
    },
    {
      "cell_type": "markdown",
      "source": [
        "# New Section"
      ],
      "metadata": {
        "id": "QRR1DFwuK7Dp"
      }
    },
    {
      "cell_type": "code",
      "source": [
        "from google.colab import files\n",
        "\n",
        "uploaded = files.upload()\n",
        "\n",
        "# Move to pdfs folder\n",
        "for filename in uploaded.keys():\n",
        "    if filename.endswith('.pdf'):\n",
        "        os.rename(filename, os.path.join(PDF_FOLDER, filename))"
      ],
      "metadata": {
        "colab": {
          "base_uri": "https://localhost:8080/",
          "height": 73
        },
        "id": "ypofhgprKyNH",
        "outputId": "3b01ce49-b370-4850-f994-0d9f5f67f9c0"
      },
      "execution_count": 4,
      "outputs": [
        {
          "output_type": "display_data",
          "data": {
            "text/plain": [
              "<IPython.core.display.HTML object>"
            ],
            "text/html": [
              "\n",
              "     <input type=\"file\" id=\"files-ffdfa35a-952c-4c8f-8902-61f2539b5ab8\" name=\"files[]\" multiple disabled\n",
              "        style=\"border:none\" />\n",
              "     <output id=\"result-ffdfa35a-952c-4c8f-8902-61f2539b5ab8\">\n",
              "      Upload widget is only available when the cell has been executed in the\n",
              "      current browser session. Please rerun this cell to enable.\n",
              "      </output>\n",
              "      <script>// Copyright 2017 Google LLC\n",
              "//\n",
              "// Licensed under the Apache License, Version 2.0 (the \"License\");\n",
              "// you may not use this file except in compliance with the License.\n",
              "// You may obtain a copy of the License at\n",
              "//\n",
              "//      http://www.apache.org/licenses/LICENSE-2.0\n",
              "//\n",
              "// Unless required by applicable law or agreed to in writing, software\n",
              "// distributed under the License is distributed on an \"AS IS\" BASIS,\n",
              "// WITHOUT WARRANTIES OR CONDITIONS OF ANY KIND, either express or implied.\n",
              "// See the License for the specific language governing permissions and\n",
              "// limitations under the License.\n",
              "\n",
              "/**\n",
              " * @fileoverview Helpers for google.colab Python module.\n",
              " */\n",
              "(function(scope) {\n",
              "function span(text, styleAttributes = {}) {\n",
              "  const element = document.createElement('span');\n",
              "  element.textContent = text;\n",
              "  for (const key of Object.keys(styleAttributes)) {\n",
              "    element.style[key] = styleAttributes[key];\n",
              "  }\n",
              "  return element;\n",
              "}\n",
              "\n",
              "// Max number of bytes which will be uploaded at a time.\n",
              "const MAX_PAYLOAD_SIZE = 100 * 1024;\n",
              "\n",
              "function _uploadFiles(inputId, outputId) {\n",
              "  const steps = uploadFilesStep(inputId, outputId);\n",
              "  const outputElement = document.getElementById(outputId);\n",
              "  // Cache steps on the outputElement to make it available for the next call\n",
              "  // to uploadFilesContinue from Python.\n",
              "  outputElement.steps = steps;\n",
              "\n",
              "  return _uploadFilesContinue(outputId);\n",
              "}\n",
              "\n",
              "// This is roughly an async generator (not supported in the browser yet),\n",
              "// where there are multiple asynchronous steps and the Python side is going\n",
              "// to poll for completion of each step.\n",
              "// This uses a Promise to block the python side on completion of each step,\n",
              "// then passes the result of the previous step as the input to the next step.\n",
              "function _uploadFilesContinue(outputId) {\n",
              "  const outputElement = document.getElementById(outputId);\n",
              "  const steps = outputElement.steps;\n",
              "\n",
              "  const next = steps.next(outputElement.lastPromiseValue);\n",
              "  return Promise.resolve(next.value.promise).then((value) => {\n",
              "    // Cache the last promise value to make it available to the next\n",
              "    // step of the generator.\n",
              "    outputElement.lastPromiseValue = value;\n",
              "    return next.value.response;\n",
              "  });\n",
              "}\n",
              "\n",
              "/**\n",
              " * Generator function which is called between each async step of the upload\n",
              " * process.\n",
              " * @param {string} inputId Element ID of the input file picker element.\n",
              " * @param {string} outputId Element ID of the output display.\n",
              " * @return {!Iterable<!Object>} Iterable of next steps.\n",
              " */\n",
              "function* uploadFilesStep(inputId, outputId) {\n",
              "  const inputElement = document.getElementById(inputId);\n",
              "  inputElement.disabled = false;\n",
              "\n",
              "  const outputElement = document.getElementById(outputId);\n",
              "  outputElement.innerHTML = '';\n",
              "\n",
              "  const pickedPromise = new Promise((resolve) => {\n",
              "    inputElement.addEventListener('change', (e) => {\n",
              "      resolve(e.target.files);\n",
              "    });\n",
              "  });\n",
              "\n",
              "  const cancel = document.createElement('button');\n",
              "  inputElement.parentElement.appendChild(cancel);\n",
              "  cancel.textContent = 'Cancel upload';\n",
              "  const cancelPromise = new Promise((resolve) => {\n",
              "    cancel.onclick = () => {\n",
              "      resolve(null);\n",
              "    };\n",
              "  });\n",
              "\n",
              "  // Wait for the user to pick the files.\n",
              "  const files = yield {\n",
              "    promise: Promise.race([pickedPromise, cancelPromise]),\n",
              "    response: {\n",
              "      action: 'starting',\n",
              "    }\n",
              "  };\n",
              "\n",
              "  cancel.remove();\n",
              "\n",
              "  // Disable the input element since further picks are not allowed.\n",
              "  inputElement.disabled = true;\n",
              "\n",
              "  if (!files) {\n",
              "    return {\n",
              "      response: {\n",
              "        action: 'complete',\n",
              "      }\n",
              "    };\n",
              "  }\n",
              "\n",
              "  for (const file of files) {\n",
              "    const li = document.createElement('li');\n",
              "    li.append(span(file.name, {fontWeight: 'bold'}));\n",
              "    li.append(span(\n",
              "        `(${file.type || 'n/a'}) - ${file.size} bytes, ` +\n",
              "        `last modified: ${\n",
              "            file.lastModifiedDate ? file.lastModifiedDate.toLocaleDateString() :\n",
              "                                    'n/a'} - `));\n",
              "    const percent = span('0% done');\n",
              "    li.appendChild(percent);\n",
              "\n",
              "    outputElement.appendChild(li);\n",
              "\n",
              "    const fileDataPromise = new Promise((resolve) => {\n",
              "      const reader = new FileReader();\n",
              "      reader.onload = (e) => {\n",
              "        resolve(e.target.result);\n",
              "      };\n",
              "      reader.readAsArrayBuffer(file);\n",
              "    });\n",
              "    // Wait for the data to be ready.\n",
              "    let fileData = yield {\n",
              "      promise: fileDataPromise,\n",
              "      response: {\n",
              "        action: 'continue',\n",
              "      }\n",
              "    };\n",
              "\n",
              "    // Use a chunked sending to avoid message size limits. See b/62115660.\n",
              "    let position = 0;\n",
              "    do {\n",
              "      const length = Math.min(fileData.byteLength - position, MAX_PAYLOAD_SIZE);\n",
              "      const chunk = new Uint8Array(fileData, position, length);\n",
              "      position += length;\n",
              "\n",
              "      const base64 = btoa(String.fromCharCode.apply(null, chunk));\n",
              "      yield {\n",
              "        response: {\n",
              "          action: 'append',\n",
              "          file: file.name,\n",
              "          data: base64,\n",
              "        },\n",
              "      };\n",
              "\n",
              "      let percentDone = fileData.byteLength === 0 ?\n",
              "          100 :\n",
              "          Math.round((position / fileData.byteLength) * 100);\n",
              "      percent.textContent = `${percentDone}% done`;\n",
              "\n",
              "    } while (position < fileData.byteLength);\n",
              "  }\n",
              "\n",
              "  // All done.\n",
              "  yield {\n",
              "    response: {\n",
              "      action: 'complete',\n",
              "    }\n",
              "  };\n",
              "}\n",
              "\n",
              "scope.google = scope.google || {};\n",
              "scope.google.colab = scope.google.colab || {};\n",
              "scope.google.colab._files = {\n",
              "  _uploadFiles,\n",
              "  _uploadFilesContinue,\n",
              "};\n",
              "})(self);\n",
              "</script> "
            ]
          },
          "metadata": {}
        },
        {
          "output_type": "stream",
          "name": "stdout",
          "text": [
            "Saving diary-no-23823-2019-tpcrl-no-5122019-consolidated.pdf to diary-no-23823-2019-tpcrl-no-5122019-consolidated.pdf\n"
          ]
        }
      ]
    },
    {
      "cell_type": "code",
      "source": [
        "def convert_pdf(pdf_file):\n",
        "    local_paths = []\n",
        "    try:\n",
        "        pages = convert_from_path(os.path.join(PDF_FOLDER, pdf_file), dpi=300)\n",
        "        for i, page in enumerate(pages):\n",
        "            image_path = os.path.join(IMAGE_FOLDER, f\"{os.path.splitext(pdf_file)[0]}_page_{i + 1}.png\")\n",
        "            page.save(image_path, 'PNG')\n",
        "            local_paths.append(image_path)\n",
        "    except Exception as e:\n",
        "        print(f\"Error processing {pdf_file}: {e}\")\n",
        "    return local_paths"
      ],
      "metadata": {
        "id": "1M56gfqxKyiw"
      },
      "execution_count": 5,
      "outputs": []
    },
    {
      "cell_type": "code",
      "source": [
        "def ocr_image(image_path):\n",
        "    try:\n",
        "        pid = os.getpid()\n",
        "        print(f\"[PROCESS {pid}] OCR on: {image_path}\")\n",
        "        text = pytesseract.image_to_string(Image.open(image_path))\n",
        "        output_file = os.path.join(OUTPUT_FOLDER, os.path.basename(image_path).replace(\".png\", \".txt\"))\n",
        "        with open(output_file, \"w\") as f:\n",
        "            f.write(text)\n",
        "        return (image_path, text[:200])  # Preview first 200 characters\n",
        "    except Exception as e:\n",
        "        return (image_path, f\"Error: {str(e)}\")"
      ],
      "metadata": {
        "id": "ktP0uz1HLEC_"
      },
      "execution_count": 6,
      "outputs": []
    },
    {
      "cell_type": "code",
      "source": [
        "def main():\n",
        "    all_image_paths = []\n",
        "    threads = []\n",
        "    results = []\n",
        "\n",
        "    def thread_task(pdf_file):\n",
        "        result = convert_pdf(pdf_file)\n",
        "        results.append(result)\n",
        "\n",
        "    for pdf_file in os.listdir(PDF_FOLDER):\n",
        "        if pdf_file.lower().endswith('.pdf'):\n",
        "            t = Thread(target=thread_task, args=(pdf_file,))\n",
        "            t.start()\n",
        "            threads.append(t)\n",
        "\n",
        "    for t in threads:\n",
        "        t.join()\n",
        "\n",
        "    for sublist in results:\n",
        "        all_image_paths.extend(sublist)\n",
        "\n",
        "    print(f\"[INFO] Total images for OCR: {len(all_image_paths)}\")\n",
        "\n",
        "    with Pool(processes=cpu_count()) as pool:\n",
        "        results = list(tqdm(pool.imap(ocr_image, all_image_paths), total=len(all_image_paths)))\n",
        "\n",
        "    for path, preview_text in results:\n",
        "        print(f\"\\n--- OCR Preview from {path} ---\\n{preview_text}\\n{'='*60}\")\n",
        "\n",
        "main()"
      ],
      "metadata": {
        "id": "6eUAoYlsLFCG",
        "colab": {
          "base_uri": "https://localhost:8080/"
        },
        "outputId": "d4d084be-0e36-4b40-c808-2f38b45b4376"
      },
      "execution_count": 7,
      "outputs": [
        {
          "output_type": "stream",
          "name": "stdout",
          "text": [
            "[INFO] Total images for OCR: 7\n"
          ]
        },
        {
          "output_type": "stream",
          "name": "stderr",
          "text": [
            "\r  0%|          | 0/7 [00:00<?, ?it/s]"
          ]
        },
        {
          "output_type": "stream",
          "name": "stdout",
          "text": [
            "[PROCESS 9179] OCR on: /content/temp_images/diary-no-23823-2019-tpcrl-no-5122019-consolidated_page_1.png\n",
            "[PROCESS 9180] OCR on: /content/temp_images/diary-no-23823-2019-tpcrl-no-5122019-consolidated_page_2.png\n",
            "[PROCESS 9180] OCR on: /content/temp_images/diary-no-23823-2019-tpcrl-no-5122019-consolidated_page_3.png\n"
          ]
        },
        {
          "output_type": "stream",
          "name": "stderr",
          "text": [
            "\r 14%|█▍        | 1/7 [00:08<00:52,  8.67s/it]"
          ]
        },
        {
          "output_type": "stream",
          "name": "stdout",
          "text": [
            "[PROCESS 9179] OCR on: /content/temp_images/diary-no-23823-2019-tpcrl-no-5122019-consolidated_page_4.png\n"
          ]
        },
        {
          "output_type": "stream",
          "name": "stderr",
          "text": [
            "\r 43%|████▎     | 3/7 [00:13<00:16,  4.02s/it]"
          ]
        },
        {
          "output_type": "stream",
          "name": "stdout",
          "text": [
            "[PROCESS 9180] OCR on: /content/temp_images/diary-no-23823-2019-tpcrl-no-5122019-consolidated_page_5.png\n"
          ]
        },
        {
          "output_type": "stream",
          "name": "stderr",
          "text": [
            "\r 57%|█████▋    | 4/7 [00:20<00:15,  5.21s/it]"
          ]
        },
        {
          "output_type": "stream",
          "name": "stdout",
          "text": [
            "[PROCESS 9179] OCR on: /content/temp_images/diary-no-23823-2019-tpcrl-no-5122019-consolidated_page_6.png\n"
          ]
        },
        {
          "output_type": "stream",
          "name": "stderr",
          "text": [
            "\r 71%|███████▏  | 5/7 [00:23<00:08,  4.48s/it]"
          ]
        },
        {
          "output_type": "stream",
          "name": "stdout",
          "text": [
            "[PROCESS 9180] OCR on: /content/temp_images/diary-no-23823-2019-tpcrl-no-5122019-consolidated_page_7.png\n"
          ]
        },
        {
          "output_type": "stream",
          "name": "stderr",
          "text": [
            "100%|██████████| 7/7 [00:44<00:00,  6.32s/it]"
          ]
        },
        {
          "output_type": "stream",
          "name": "stdout",
          "text": [
            "\n",
            "--- OCR Preview from /content/temp_images/diary-no-23823-2019-tpcrl-no-5122019-consolidated_page_1.png ---\n",
            "  \n",
            "\n",
            "ge,\n",
            "\n",
            "(3\n",
            "\n",
            "p=\n",
            "HE SUPREME COURT OF INDIA\n",
            "£SRJMINAL ORIGINAL JURISDICTION\n",
            "UfS 406 OF THE CODE OF CRIMINAL\n",
            "-s. PROGEDURE, 1973, R/W ORDER XXXIX OF THE\n",
            "aS f // SUPREME.COURT RULES, 2013)\n",
            "Fe, spose PETIT\n",
            "============================================================\n",
            "\n",
            "--- OCR Preview from /content/temp_images/diary-no-23823-2019-tpcrl-no-5122019-consolidated_page_2.png ---\n",
            "®\n",
            "%\n",
            "\n",
            "RECORD OF PROCEEDINGS\n",
            "-SLNO. DATE OF RECORD OF PROCEEDING PGS\n",
            "4\n",
            "\n",
            "ee en ee\n",
            "\n",
            "a\n",
            "\n",
            "3.\n",
            "\n",
            "| 10. 7\n",
            "\f\n",
            "============================================================\n",
            "\n",
            "--- OCR Preview from /content/temp_images/diary-no-23823-2019-tpcrl-no-5122019-consolidated_page_3.png ---\n",
            "ITEM NO.22 COURT NO.13 SECTION XVI-A\n",
            "\n",
            "SUPREME COURT OF INDIA\n",
            "RECORD OF PROCEEDINGS\n",
            "\n",
            "Transfer Petition(s)(Criminal) No(s). 512/2019\n",
            "\n",
            "REKHA RATHI Petitioner(s)\n",
            "VERSUS\n",
            "\n",
            "LT. COL GURMEET SINGH Respondent(s\n",
            "============================================================\n",
            "\n",
            "--- OCR Preview from /content/temp_images/diary-no-23823-2019-tpcrl-no-5122019-consolidated_page_4.png ---\n",
            "Cs\n",
            "ITEM NO.82 REGISTRAR COURT. 1 SECTION XVI-A |\n",
            "SUPREME COURT OF INDIA\n",
            "RECORD OF PROCEEDINGS\n",
            "\n",
            "BEFORE THE REGISTRAR SH. ANIL LAXMAN PANSARE\n",
            "Transfer Petition(s)(Criminal) No(s). 512/2019\n",
            "REKHA RATHI P\n",
            "============================================================\n",
            "\n",
            "--- OCR Preview from /content/temp_images/diary-no-23823-2019-tpcrl-no-5122019-consolidated_page_5.png ---\n",
            "©\\\n",
            "ITEM NO.17 COURT NO.12 SECTION XVI-A\n",
            "\n",
            "SUPREME COURT OF INDTA\n",
            "RECORD OF PROCEEDINGS\n",
            "\n",
            "Transfer Petition(s)(Criminal) No(s). 512/2019\n",
            "\n",
            "REKHA RATHI Petitioner (s)\n",
            "VERSUS\n",
            "\n",
            "LT. COL GURMEET SINGH Responde\n",
            "============================================================\n",
            "\n",
            "--- OCR Preview from /content/temp_images/diary-no-23823-2019-tpcrl-no-5122019-consolidated_page_6.png ---\n",
            "| | Annee ar >8\n",
            "3°\n",
            "\n",
            "APPX- B\n",
            "\n",
            "(Ref para 3 of 122 Inf Bn (TA)\n",
            "\n",
            "_MADRAS. -_ietter  =—No.\n",
            "62877/GS/CF/A1 dt 13 Dec\n",
            "2019)\n",
            "\n",
            "     \n",
            "\n",
            " \n",
            "\n",
            "COMMENT. $& RECOMMENDATIONS OF COMMANDING OFFICER, 1\n",
            "~ “BN(TAYMADRAS. IN\n",
            "============================================================\n",
            "\n",
            "--- OCR Preview from /content/temp_images/diary-no-23823-2019-tpcrl-no-5122019-consolidated_page_7.png ---\n",
            " \n",
            "\n",
            " \n",
            "\n",
            " \n",
            "\n",
            " \n",
            "\n",
            "ze |\n",
            "\n",
            "See\n",
            "\n",
            "Iso became ‘part of the whatsapp..group of the Battalion ladies. Things were —\n",
            "ibsolutety fine with the couple but at-times she used to get upset with Lt Col\n",
            "meet Sir h not gett\n",
            "============================================================\n"
          ]
        },
        {
          "output_type": "stream",
          "name": "stderr",
          "text": [
            "\n"
          ]
        }
      ]
    },
    {
      "cell_type": "code",
      "source": [
        "from google.colab import files\n",
        "import zipfile\n",
        "\n",
        "zip_path = \"/content/ocr_results.zip\"\n",
        "\n",
        "with zipfile.ZipFile(zip_path, 'w') as zipf:\n",
        "    for file in os.listdir(OUTPUT_FOLDER):\n",
        "        zipf.write(os.path.join(OUTPUT_FOLDER, file), arcname=file)\n",
        "\n",
        "files.download(zip_path)"
      ],
      "metadata": {
        "colab": {
          "base_uri": "https://localhost:8080/",
          "height": 17
        },
        "id": "P53VA56zLX_-",
        "outputId": "65eef17d-20c0-4705-dba4-7c179c0575b9"
      },
      "execution_count": 8,
      "outputs": [
        {
          "output_type": "display_data",
          "data": {
            "text/plain": [
              "<IPython.core.display.Javascript object>"
            ],
            "application/javascript": [
              "\n",
              "    async function download(id, filename, size) {\n",
              "      if (!google.colab.kernel.accessAllowed) {\n",
              "        return;\n",
              "      }\n",
              "      const div = document.createElement('div');\n",
              "      const label = document.createElement('label');\n",
              "      label.textContent = `Downloading \"${filename}\": `;\n",
              "      div.appendChild(label);\n",
              "      const progress = document.createElement('progress');\n",
              "      progress.max = size;\n",
              "      div.appendChild(progress);\n",
              "      document.body.appendChild(div);\n",
              "\n",
              "      const buffers = [];\n",
              "      let downloaded = 0;\n",
              "\n",
              "      const channel = await google.colab.kernel.comms.open(id);\n",
              "      // Send a message to notify the kernel that we're ready.\n",
              "      channel.send({})\n",
              "\n",
              "      for await (const message of channel.messages) {\n",
              "        // Send a message to notify the kernel that we're ready.\n",
              "        channel.send({})\n",
              "        if (message.buffers) {\n",
              "          for (const buffer of message.buffers) {\n",
              "            buffers.push(buffer);\n",
              "            downloaded += buffer.byteLength;\n",
              "            progress.value = downloaded;\n",
              "          }\n",
              "        }\n",
              "      }\n",
              "      const blob = new Blob(buffers, {type: 'application/binary'});\n",
              "      const a = document.createElement('a');\n",
              "      a.href = window.URL.createObjectURL(blob);\n",
              "      a.download = filename;\n",
              "      div.appendChild(a);\n",
              "      a.click();\n",
              "      div.remove();\n",
              "    }\n",
              "  "
            ]
          },
          "metadata": {}
        },
        {
          "output_type": "display_data",
          "data": {
            "text/plain": [
              "<IPython.core.display.Javascript object>"
            ],
            "application/javascript": [
              "download(\"download_69b7815f-0da0-4fc3-9f9f-64ddf352eec0\", \"ocr_results.zip\", 9979)"
            ]
          },
          "metadata": {}
        }
      ]
    }
  ]
}